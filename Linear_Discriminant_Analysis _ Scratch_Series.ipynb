{
  "nbformat": 4,
  "nbformat_minor": 0,
  "metadata": {
    "colab": {
      "name": "Linear Discriminant Analysis - Scratch Series.ipynb",
      "provenance": [],
      "collapsed_sections": [],
      "authorship_tag": "ABX9TyOWkbO2ZKV26jd0DdWLtUuX",
      "include_colab_link": true
    },
    "kernelspec": {
      "name": "python3",
      "display_name": "Python 3"
    },
    "language_info": {
      "name": "python"
    }
  },
  "cells": [
    {
      "cell_type": "markdown",
      "metadata": {
        "id": "view-in-github",
        "colab_type": "text"
      },
      "source": [
        "<a href=\"https://colab.research.google.com/github/abhianlytic/LDA/blob/main/Linear_Discriminant_Analysis%E2%80%8A_%E2%80%8AScratch_Series.ipynb\" target=\"_parent\"><img src=\"https://colab.research.google.com/assets/colab-badge.svg\" alt=\"Open In Colab\"/></a>"
      ]
    },
    {
      "cell_type": "code",
      "metadata": {
        "colab": {
          "base_uri": "https://localhost:8080/"
        },
        "id": "IQVZ7vwEVP82",
        "outputId": "6511f1e1-cb05-45f6-9b99-188735b06a9e"
      },
      "source": [
        "# mount google drive in case you are loading the data from your google drive\n",
        "from google.colab import drive\n",
        "drive.mount('/gdrive')"
      ],
      "execution_count": 2,
      "outputs": [
        {
          "output_type": "stream",
          "text": [
            "Mounted at /gdrive\n",
            "/gdrive\n"
          ],
          "name": "stdout"
        }
      ]
    },
    {
      "cell_type": "markdown",
      "metadata": {
        "id": "W7X2c1snRDYt"
      },
      "source": [
        "# LDA from Scratch - Series1\n",
        "### Mathematical intuition behind LDA"
      ]
    },
    {
      "cell_type": "markdown",
      "metadata": {
        "id": "6wQ4F1zdYusg"
      },
      "source": [
        "We know PCA, an Unsupervised technique to reduce dimension but we need some another method which is supervised technique, which seperate classes and preserve the seperation of the classes and preserve variance of the data.\n",
        "\n",
        "One such technique is LDA - Linear Discriminant Analysis, a supervised technique, which has the property to preserve class seperation and variance in the data. \n",
        "LDA helps us to find the axes that maximizes the seperation between classes and also minimizes the scatter(variance).\n",
        "And the goal of LDA is to project feature space(N-Dimensional) onto a smaller subspace k (k<=n-1) while maintaining the class discriminating information.\n",
        "\n",
        "Here we will understand the mathematical intuition behind the discriminating function and in the later series we will go deeper into understanding projectio using LDA."
      ]
    },
    {
      "cell_type": "markdown",
      "metadata": {
        "id": "cHTdJ_VmbBNY"
      },
      "source": [
        "We will understand LDA with the famous data set - iris data set.\n",
        "The data set consists of 50 samples from each of three species of Iris (Iris setosa, Iris virginica and Iris versicolor). Four features were measured from each sample: the length and the width of the sepals and petals, in centimeters.\n",
        "Read wiki to know more https://en.wikipedia.org/wiki/Iris_flower_data_set#:~:text=The%20Iris%20flower%20data%20set,example%20of%20linear%20discriminant%20analysis.\n",
        "\n",
        "We will consider only two classes setosa and virginica, for better understanding of maths behind LDA."
      ]
    },
    {
      "cell_type": "code",
      "metadata": {
        "colab": {
          "base_uri": "https://localhost:8080/",
          "height": 419
        },
        "id": "hnUjjGfZWKrj",
        "outputId": "43116dd2-4524-433e-fb92-248b4e991261"
      },
      "source": [
        "# Loading data from csv file\n",
        "import pandas as pd\n",
        "data_path = '/gdrive/MyDrive/BLOGS/LDA/iris_data.csv'\n",
        "df = pd.read_csv(data_path)\n",
        "df"
      ],
      "execution_count": 4,
      "outputs": [
        {
          "output_type": "execute_result",
          "data": {
            "text/html": [
              "<div>\n",
              "<style scoped>\n",
              "    .dataframe tbody tr th:only-of-type {\n",
              "        vertical-align: middle;\n",
              "    }\n",
              "\n",
              "    .dataframe tbody tr th {\n",
              "        vertical-align: top;\n",
              "    }\n",
              "\n",
              "    .dataframe thead th {\n",
              "        text-align: right;\n",
              "    }\n",
              "</style>\n",
              "<table border=\"1\" class=\"dataframe\">\n",
              "  <thead>\n",
              "    <tr style=\"text-align: right;\">\n",
              "      <th></th>\n",
              "      <th>sepal.length</th>\n",
              "      <th>sepal.width</th>\n",
              "      <th>petal.length</th>\n",
              "      <th>petal.width</th>\n",
              "      <th>variety</th>\n",
              "    </tr>\n",
              "  </thead>\n",
              "  <tbody>\n",
              "    <tr>\n",
              "      <th>0</th>\n",
              "      <td>5.1</td>\n",
              "      <td>3.5</td>\n",
              "      <td>1.4</td>\n",
              "      <td>0.2</td>\n",
              "      <td>Setosa</td>\n",
              "    </tr>\n",
              "    <tr>\n",
              "      <th>1</th>\n",
              "      <td>4.9</td>\n",
              "      <td>3.0</td>\n",
              "      <td>1.4</td>\n",
              "      <td>0.2</td>\n",
              "      <td>Setosa</td>\n",
              "    </tr>\n",
              "    <tr>\n",
              "      <th>2</th>\n",
              "      <td>4.7</td>\n",
              "      <td>3.2</td>\n",
              "      <td>1.3</td>\n",
              "      <td>0.2</td>\n",
              "      <td>Setosa</td>\n",
              "    </tr>\n",
              "    <tr>\n",
              "      <th>3</th>\n",
              "      <td>4.6</td>\n",
              "      <td>3.1</td>\n",
              "      <td>1.5</td>\n",
              "      <td>0.2</td>\n",
              "      <td>Setosa</td>\n",
              "    </tr>\n",
              "    <tr>\n",
              "      <th>4</th>\n",
              "      <td>5.0</td>\n",
              "      <td>3.6</td>\n",
              "      <td>1.4</td>\n",
              "      <td>0.2</td>\n",
              "      <td>Setosa</td>\n",
              "    </tr>\n",
              "    <tr>\n",
              "      <th>...</th>\n",
              "      <td>...</td>\n",
              "      <td>...</td>\n",
              "      <td>...</td>\n",
              "      <td>...</td>\n",
              "      <td>...</td>\n",
              "    </tr>\n",
              "    <tr>\n",
              "      <th>145</th>\n",
              "      <td>6.7</td>\n",
              "      <td>3.0</td>\n",
              "      <td>5.2</td>\n",
              "      <td>2.3</td>\n",
              "      <td>Virginica</td>\n",
              "    </tr>\n",
              "    <tr>\n",
              "      <th>146</th>\n",
              "      <td>6.3</td>\n",
              "      <td>2.5</td>\n",
              "      <td>5.0</td>\n",
              "      <td>1.9</td>\n",
              "      <td>Virginica</td>\n",
              "    </tr>\n",
              "    <tr>\n",
              "      <th>147</th>\n",
              "      <td>6.5</td>\n",
              "      <td>3.0</td>\n",
              "      <td>5.2</td>\n",
              "      <td>2.0</td>\n",
              "      <td>Virginica</td>\n",
              "    </tr>\n",
              "    <tr>\n",
              "      <th>148</th>\n",
              "      <td>6.2</td>\n",
              "      <td>3.4</td>\n",
              "      <td>5.4</td>\n",
              "      <td>2.3</td>\n",
              "      <td>Virginica</td>\n",
              "    </tr>\n",
              "    <tr>\n",
              "      <th>149</th>\n",
              "      <td>5.9</td>\n",
              "      <td>3.0</td>\n",
              "      <td>5.1</td>\n",
              "      <td>1.8</td>\n",
              "      <td>Virginica</td>\n",
              "    </tr>\n",
              "  </tbody>\n",
              "</table>\n",
              "<p>150 rows × 5 columns</p>\n",
              "</div>"
            ],
            "text/plain": [
              "     sepal.length  sepal.width  petal.length  petal.width    variety\n",
              "0             5.1          3.5           1.4          0.2     Setosa\n",
              "1             4.9          3.0           1.4          0.2     Setosa\n",
              "2             4.7          3.2           1.3          0.2     Setosa\n",
              "3             4.6          3.1           1.5          0.2     Setosa\n",
              "4             5.0          3.6           1.4          0.2     Setosa\n",
              "..            ...          ...           ...          ...        ...\n",
              "145           6.7          3.0           5.2          2.3  Virginica\n",
              "146           6.3          2.5           5.0          1.9  Virginica\n",
              "147           6.5          3.0           5.2          2.0  Virginica\n",
              "148           6.2          3.4           5.4          2.3  Virginica\n",
              "149           5.9          3.0           5.1          1.8  Virginica\n",
              "\n",
              "[150 rows x 5 columns]"
            ]
          },
          "metadata": {
            "tags": []
          },
          "execution_count": 4
        }
      ]
    },
    {
      "cell_type": "code",
      "metadata": {
        "colab": {
          "base_uri": "https://localhost:8080/"
        },
        "id": "8MSPVkMyXcS2",
        "outputId": "de83e2fb-daf9-45df-faef-f1046e2eac41"
      },
      "source": [
        "df = df[df['variety']!='Versicolor']\n",
        "df.shape"
      ],
      "execution_count": 5,
      "outputs": [
        {
          "output_type": "execute_result",
          "data": {
            "text/plain": [
              "(100, 5)"
            ]
          },
          "metadata": {
            "tags": []
          },
          "execution_count": 5
        }
      ]
    },
    {
      "cell_type": "code",
      "metadata": {
        "colab": {
          "base_uri": "https://localhost:8080/",
          "height": 386
        },
        "id": "2TIcMdksWqGA",
        "outputId": "594c7894-1b04-41f2-a545-ead0d92d07cf"
      },
      "source": [
        "import seaborn as sns\n",
        "sns.displot(df, x=\"sepal.length\", hue=\"variety\",kind=\"kde\", fill=True)"
      ],
      "execution_count": 6,
      "outputs": [
        {
          "output_type": "execute_result",
          "data": {
            "text/plain": [
              "<seaborn.axisgrid.FacetGrid at 0x7fc55e372650>"
            ]
          },
          "metadata": {
            "tags": []
          },
          "execution_count": 6
        },
        {
          "output_type": "display_data",
          "data": {
            "image/png": "[encoded data removed]",
            "text/plain": [
              "<Figure size 439.625x360 with 1 Axes>"
            ]
          },
          "metadata": {
            "tags": [],
            "needs_background": "light"
          }
        }
      ]
    },
    {
      "cell_type": "code",
      "metadata": {
        "colab": {
          "base_uri": "https://localhost:8080/",
          "height": 386
        },
        "id": "lLbwNXGqXvFM",
        "outputId": "c110d978-d833-4627-c3a8-fcf784e7a4af"
      },
      "source": [
        "sns.displot(df, x=\"sepal.width\", hue=\"variety\",kind=\"kde\", fill=True)"
      ],
      "execution_count": 7,
      "outputs": [
        {
          "output_type": "execute_result",
          "data": {
            "text/plain": [
              "<seaborn.axisgrid.FacetGrid at 0x7fc55dcb50d0>"
            ]
          },
          "metadata": {
            "tags": []
          },
          "execution_count": 7
        },
        {
          "output_type": "display_data",
          "data": {
            "image/png": "[encoded data removed]",
            "text/plain": [
              "<Figure size 439.625x360 with 1 Axes>"
            ]
          },
          "metadata": {
            "tags": [],
            "needs_background": "light"
          }
        }
      ]
    },
    {
      "cell_type": "markdown",
      "metadata": {
        "id": "jfCobjXccSd8"
      },
      "source": [
        "Which one is better feature to seperate the classes?\n",
        "\n",
        "\n",
        "1. sepal.length\n",
        "2. sepal.width\n",
        "\n"
      ]
    },
    {
      "cell_type": "markdown",
      "metadata": {
        "id": "PmfmtmWWdARs"
      },
      "source": [
        "Obviously the first feature which is sepal.length but why? - lets understand\n",
        "let say we want some function f(µ1,σ1,µ2,σ2)\n",
        "µ1 - mean of setosa class\n",
        "σ1 - standard deviation of setosa class\n",
        "µ2 - mean of Virginica class\n",
        "σ2 - standard deviation of Virginica class"
      ]
    },
    {
      "cell_type": "markdown",
      "metadata": {
        "id": "q5NPwKWWf5HB"
      },
      "source": [
        "Now seperation between classes = (µ1-µ2)\n",
        "we did square as it does not matter much, it just shows square of the distance between two classes.\n"
      ]
    },
    {
      "cell_type": "code",
      "metadata": {
        "id": "_hueY9AFins8"
      },
      "source": [
        "# Lets calculate mean and standard deviation of each class for sepal.length(sl)\n",
        "µ1_sl = df[df['variety']=='Setosa']['sepal.length'].mean()\n",
        "µ2_sl = df[df['variety']=='Virginica']['sepal.length'].mean()\n",
        "\n",
        "σ1_sl = df[df['variety']=='Setosa']['sepal.length'].std()\n",
        "σ2_sl = df[df['variety']=='Virginica']['sepal.length'].std()\n",
        "\n",
        "# Lets calculate mean and standard deviation of each class for sepal.width(sw)\n",
        "µ1_sw = df[df['variety']=='Setosa']['sepal.width'].mean()\n",
        "µ2_sw = df[df['variety']=='Virginica']['sepal.width'].mean()\n",
        "\n",
        "σ1_sw = df[df['variety']=='Setosa']['sepal.width'].std()\n",
        "σ2_sw = df[df['variety']=='Virginica']['sepal.width'].std()"
      ],
      "execution_count": 8,
      "outputs": []
    },
    {
      "cell_type": "code",
      "metadata": {
        "colab": {
          "base_uri": "https://localhost:8080/"
        },
        "id": "Cd8w3gkx8FjM",
        "outputId": "91e95217-bdde-4ef7-def2-da3b24e5d224"
      },
      "source": [
        "µ1_sl,µ2_sl,µ1_sw"
      ],
      "execution_count": 11,
      "outputs": [
        {
          "output_type": "execute_result",
          "data": {
            "text/plain": [
              "(5.005999999999999, 6.587999999999998, 3.428000000000001)"
            ]
          },
          "metadata": {
            "tags": []
          },
          "execution_count": 11
        }
      ]
    },
    {
      "cell_type": "code",
      "metadata": {
        "colab": {
          "base_uri": "https://localhost:8080/"
        },
        "id": "fl2xOSS-lqNr",
        "outputId": "f4e9f8ca-8678-4ad5-d981-9c79d901a871"
      },
      "source": [
        "round(((µ2_sl-µ1_sl)**2),2)"
      ],
      "execution_count": 25,
      "outputs": [
        {
          "output_type": "execute_result",
          "data": {
            "text/plain": [
              "2.5"
            ]
          },
          "metadata": {
            "tags": []
          },
          "execution_count": 25
        }
      ]
    },
    {
      "cell_type": "code",
      "metadata": {
        "colab": {
          "base_uri": "https://localhost:8080/"
        },
        "id": "6f44hyh2jzhp",
        "outputId": "ba230863-a724-4795-f198-5e770cd8f9f9"
      },
      "source": [
        "print(\"Seperation between classes in case of sepal.length = \",round(((µ2_sl-µ1_sl)**2),2))"
      ],
      "execution_count": 26,
      "outputs": [
        {
          "output_type": "stream",
          "text": [
            "Seperation between classes in sepal.lemgth =  2.5\n"
          ],
          "name": "stdout"
        }
      ]
    },
    {
      "cell_type": "code",
      "metadata": {
        "colab": {
          "base_uri": "https://localhost:8080/"
        },
        "id": "Dod6k2H3mGdn",
        "outputId": "affbb589-d44f-40c5-e4f0-68ee53f14cdb"
      },
      "source": [
        "print(\"Seperation between classes in case of sepal.width = \",round(((µ2_sw-µ1_sw)**2),2))"
      ],
      "execution_count": 27,
      "outputs": [
        {
          "output_type": "stream",
          "text": [
            "Seperation between classes in case of sepal.width =  0.21\n"
          ],
          "name": "stdout"
        }
      ]
    },
    {
      "cell_type": "markdown",
      "metadata": {
        "id": "zejwGl0nmQrw"
      },
      "source": [
        "That is why we selected sepal.length as the seperation of class is maximum.\n",
        "Now lets see another feature as below:"
      ]
    },
    {
      "cell_type": "code",
      "metadata": {
        "colab": {
          "base_uri": "https://localhost:8080/",
          "height": 386
        },
        "id": "_nsj-1zMXv9b",
        "outputId": "9da93bbd-1297-4d29-c822-2ebd30d24ba3"
      },
      "source": [
        "sns.displot(df, x=\"petal.length\", hue=\"variety\",kind=\"kde\", fill=True)"
      ],
      "execution_count": 15,
      "outputs": [
        {
          "output_type": "execute_result",
          "data": {
            "text/plain": [
              "<seaborn.axisgrid.FacetGrid at 0x7f04ab0d3b10>"
            ]
          },
          "metadata": {
            "tags": []
          },
          "execution_count": 15
        },
        {
          "output_type": "display_data",
          "data": {
            "image/png": "[encoded data removed]",
            "text/plain": [
              "<Figure size 439.625x360 with 1 Axes>"
            ]
          },
          "metadata": {
            "tags": [],
            "needs_background": "light"
          }
        }
      ]
    },
    {
      "cell_type": "markdown",
      "metadata": {
        "id": "_ezBfnWemtqu"
      },
      "source": [
        "This 3rd feature is far better than the previous two features, visually very clear,why? lets do some more maths:\n"
      ]
    },
    {
      "cell_type": "code",
      "metadata": {
        "id": "FCxXHoZVoNQ8"
      },
      "source": [
        "# Lets calculate mean and standard deviation of each class for petal.length(pl) as well to compare with our previous results\n",
        "µ1_pl = df[df['variety']=='Setosa']['petal.length'].mean()\n",
        "µ2_pl = df[df['variety']=='Virginica']['petal.length'].mean()\n",
        "\n",
        "σ1_pl = df[df['variety']=='Setosa']['petal.length'].std()\n",
        "σ2_pl = df[df['variety']=='Virginica']['petal.length'].std()"
      ],
      "execution_count": 29,
      "outputs": []
    },
    {
      "cell_type": "code",
      "metadata": {
        "colab": {
          "base_uri": "https://localhost:8080/"
        },
        "id": "m4WqQQ2WoDLQ",
        "outputId": "3358bc15-c51f-44ed-a499-8edc5fb5d6c7"
      },
      "source": [
        "print(\"Seperation between classes in case of petal.length = \",round(((µ2_pl-µ1_pl)**2),2))"
      ],
      "execution_count": 30,
      "outputs": [
        {
          "output_type": "stream",
          "text": [
            "Seperation between classes in case of petal.length =  16.73\n"
          ],
          "name": "stdout"
        }
      ]
    },
    {
      "cell_type": "markdown",
      "metadata": {
        "id": "_zWV4BVmomC_"
      },
      "source": [
        "WoW, the class seperation is far better than the class seperation in case of sepal.length, but what about variance? \n",
        "lets find out within class variance for each feature:"
      ]
    },
    {
      "cell_type": "code",
      "metadata": {
        "colab": {
          "base_uri": "https://localhost:8080/"
        },
        "id": "6wlkRH4Ur_PS",
        "outputId": "a2666c28-8e18-4702-b799-824ea3908ef4"
      },
      "source": [
        "print(\"Within Class Variance in case of sepal.length = \",round((σ2_sl**2+σ1_sl**2),2))"
      ],
      "execution_count": 31,
      "outputs": [
        {
          "output_type": "stream",
          "text": [
            "Within Class Variance in case of sepal.length =  0.53\n"
          ],
          "name": "stdout"
        }
      ]
    },
    {
      "cell_type": "code",
      "metadata": {
        "colab": {
          "base_uri": "https://localhost:8080/"
        },
        "id": "_W3o6UPrsg-i",
        "outputId": "b157fdd9-f510-47d9-884c-0137866825e7"
      },
      "source": [
        "print(\"Within Class Variance in case of sepal.width = \",round((σ2_sw**2+σ1_sw**2),2))"
      ],
      "execution_count": 32,
      "outputs": [
        {
          "output_type": "stream",
          "text": [
            "Within Class Variance in case of sepal.width =  0.25\n"
          ],
          "name": "stdout"
        }
      ]
    },
    {
      "cell_type": "code",
      "metadata": {
        "colab": {
          "base_uri": "https://localhost:8080/"
        },
        "id": "4vxLzOOIsp2Q",
        "outputId": "f1e8349f-ceea-4d81-97df-55c5993bdd10"
      },
      "source": [
        "print(\"Within Class Variance in case of petal.length = \",round((σ2_pl**2+σ1_pl**2),2))"
      ],
      "execution_count": 33,
      "outputs": [
        {
          "output_type": "stream",
          "text": [
            "Within Class Variance in case of petal.length =  0.33\n"
          ],
          "name": "stdout"
        }
      ]
    },
    {
      "cell_type": "markdown",
      "metadata": {
        "id": "QXQEI5t6swhb"
      },
      "source": [
        "so the minimum within class variance is for sepal.width, but visually petal.length is better, what to do now?\n",
        "Lets formulize our optimization function would be to maximize the value of the function, so we define the function as:\n",
        "f = (between class seperation)/(within class variance)\n",
        "  = ((µ1-µ2)^2)/(σ1^2+σ2^2)\n",
        "So to maximize the value of the function we need to minimize variance and maximize seperation.\n",
        "We call this optimization function as discriminating function.\n",
        "we will select the top features based on the top values computed using discriminating functions, lets calculate:"
      ]
    },
    {
      "cell_type": "code",
      "metadata": {
        "colab": {
          "base_uri": "https://localhost:8080/"
        },
        "id": "XZK7Tz52uoLZ",
        "outputId": "ae775fb7-fad6-4d36-c2c9-aabcac020412"
      },
      "source": [
        "print(\"function value for sepal.length = \",round((((µ2_sl-µ1_sl)**2)/((σ2_sl**2+σ1_sl**2))),2))"
      ],
      "execution_count": 34,
      "outputs": [
        {
          "output_type": "stream",
          "text": [
            "function value for sepal.length =  4.73\n"
          ],
          "name": "stdout"
        }
      ]
    },
    {
      "cell_type": "code",
      "metadata": {
        "colab": {
          "base_uri": "https://localhost:8080/"
        },
        "id": "qJAmSvYBvKac",
        "outputId": "b3f2504e-2677-4d4d-c56f-d8a5f62346bf"
      },
      "source": [
        "print(\"function value for sepal.width = \",round((((µ2_sw-µ1_sw)**2)/((σ2_sw**2+σ1_sw**2))),2))"
      ],
      "execution_count": 35,
      "outputs": [
        {
          "output_type": "stream",
          "text": [
            "function value for sepal.width =  0.83\n"
          ],
          "name": "stdout"
        }
      ]
    },
    {
      "cell_type": "code",
      "metadata": {
        "colab": {
          "base_uri": "https://localhost:8080/"
        },
        "id": "G1edFRiHvQpH",
        "outputId": "fd412e81-cb0e-4949-ca41-6cb86494ce0f"
      },
      "source": [
        "print(\"function value for petal.length = \",round((((µ2_pl-µ1_pl)**2)/((σ2_pl**2+σ1_pl**2))),2))"
      ],
      "execution_count": 36,
      "outputs": [
        {
          "output_type": "stream",
          "text": [
            "function value for petal.length =  49.97\n"
          ],
          "name": "stdout"
        }
      ]
    },
    {
      "cell_type": "markdown",
      "metadata": {
        "id": "gyxjUUhT3IWN"
      },
      "source": [
        "We can see the value is maximum for petal.length,so the discriminating function defined the separation between these two distributions to be the ratio of the **variance between the classes** to the **variance within the classes**.\n",
        "This is our Linear Discriminant Function, and it is a generalization of Fisher's linear discriminant, a method to find a linear combination of features that separates two or more classes. The resulting combination may be used as a linear classifier, or, more commonly, for dimensionality reduction before later classification.\n",
        "\n",
        "Work for you, calculate the value of discriminant function for petal.width considering only for two classes."
      ]
    },
    {
      "cell_type": "code",
      "metadata": {
        "colab": {
          "base_uri": "https://localhost:8080/",
          "height": 386
        },
        "id": "6HczWIulX4mO",
        "outputId": "a317dea4-403f-40ef-d775-693ffe47dd40"
      },
      "source": [
        "sns.displot(df, x=\"petal.width\", hue=\"variety\",kind=\"kde\", fill=True)"
      ],
      "execution_count": 16,
      "outputs": [
        {
          "output_type": "execute_result",
          "data": {
            "text/plain": [
              "<seaborn.axisgrid.FacetGrid at 0x7f04ab07be50>"
            ]
          },
          "metadata": {
            "tags": []
          },
          "execution_count": 16
        },
        {
          "output_type": "display_data",
          "data": {
            "image/png": "[encoded data removed]",
            "text/plain": [
              "<Figure size 439.625x360 with 1 Axes>"
            ]
          },
          "metadata": {
            "tags": [],
            "needs_background": "light"
          }
        }
      ]
    },
    {
      "cell_type": "markdown",
      "metadata": {
        "id": "tl-XgsrDQVJf"
      },
      "source": [
        "Up-coming series:\n",
        "\n",
        "1.   calculate discriminant value for all iris variety from scratch \n",
        "2.   Find the Fisher projection and compare it with scikit implentation.\n",
        "\n"
      ]
    }
  ]
}